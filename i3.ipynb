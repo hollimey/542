{
  "nbformat": 4,
  "nbformat_minor": 0,
  "metadata": {
    "colab": {
      "provenance": [],
      "authorship_tag": "ABX9TyMfXsdV/eHF4/tKXsdksNvl",
      "include_colab_link": true
    },
    "kernelspec": {
      "name": "python3",
      "display_name": "Python 3"
    },
    "language_info": {
      "name": "python"
    }
  },
  "cells": [
    {
      "cell_type": "markdown",
      "metadata": {
        "id": "view-in-github",
        "colab_type": "text"
      },
      "source": [
        "<a href=\"https://colab.research.google.com/github/hollimey/542/blob/main/i3.ipynb\" target=\"_parent\"><img src=\"https://colab.research.google.com/assets/colab-badge.svg\" alt=\"Open In Colab\"/></a>"
      ]
    },
    {
      "cell_type": "code",
      "execution_count": 5,
      "metadata": {
        "colab": {
          "base_uri": "https://localhost:8080/"
        },
        "collapsed": true,
        "id": "WZOjUV3o0hMm",
        "outputId": "a0e243d6-de63-44bf-fb77-9b29b4f45060"
      },
      "outputs": [
        {
          "output_type": "stream",
          "name": "stdout",
          "text": [
            "Requirement already satisfied: pandas in /usr/local/lib/python3.11/dist-packages (2.2.2)\n",
            "Requirement already satisfied: numpy>=1.23.2 in /usr/local/lib/python3.11/dist-packages (from pandas) (2.0.2)\n",
            "Requirement already satisfied: python-dateutil>=2.8.2 in /usr/local/lib/python3.11/dist-packages (from pandas) (2.8.2)\n",
            "Requirement already satisfied: pytz>=2020.1 in /usr/local/lib/python3.11/dist-packages (from pandas) (2025.2)\n",
            "Requirement already satisfied: tzdata>=2022.7 in /usr/local/lib/python3.11/dist-packages (from pandas) (2025.2)\n",
            "Requirement already satisfied: six>=1.5 in /usr/local/lib/python3.11/dist-packages (from python-dateutil>=2.8.2->pandas) (1.17.0)\n"
          ]
        }
      ],
      "source": [
        "# use pandas library and their dataframe data structure https://pandas.pydata.org/docs/reference/api/pandas.DataFrame.html\n",
        "# use pandas library and their dataframe data structure https://pandas.pydata.org/docs/reference/api/pandas.DataFrame.html\n",
        "# the pip command installs the library, which will work in Colab\n",
        "# if using in your own machine, requires the pip package manager to be installed, or use another package manager\n",
        "!pip install pandas"
      ]
    },
    {
      "source": [
        "# import the requests library, which is for making requests over HTTP to websites or APIs\n",
        "# import the pandas library and rename it as pd for simplicity\n",
        "import requests\n",
        "import pandas as pd"
      ],
      "cell_type": "code",
      "metadata": {
        "id": "zi8LqrXU13pp"
      },
      "execution_count": 6,
      "outputs": []
    },
    {
      "source": [
        "# create variable for holding API reponse\n",
        "response = requests.get(\"https://data.cityofnewyork.us/api/views/c3uy-2p5r/rows.json\")\n",
        "\n",
        "# fetch data from the API\n",
        "import json\n",
        "data = response.json()"
      ],
      "cell_type": "code",
      "metadata": {
        "id": "CevNV7Ag22yd"
      },
      "execution_count": 7,
      "outputs": []
    },
    {
      "cell_type": "code",
      "source": [
        "# view dataset fields\n",
        "columns = [col['fieldName'] for col in data['meta']['view']['columns']]\n",
        "columns"
      ],
      "metadata": {
        "colab": {
          "base_uri": "https://localhost:8080/"
        },
        "id": "-MuIdz9C4Wf6",
        "outputId": "d123ddcd-599c-40a0-8a97-14eb54297df7"
      },
      "execution_count": 8,
      "outputs": [
        {
          "output_type": "execute_result",
          "data": {
            "text/plain": [
              "[':sid',\n",
              " ':id',\n",
              " ':position',\n",
              " ':created_at',\n",
              " ':created_meta',\n",
              " ':updated_at',\n",
              " ':updated_meta',\n",
              " ':meta',\n",
              " 'unique_id',\n",
              " 'indicator_id',\n",
              " 'name',\n",
              " 'measure',\n",
              " 'measure_info',\n",
              " 'geo_type_name',\n",
              " 'geo_join_id',\n",
              " 'geo_place_name',\n",
              " 'time_period',\n",
              " 'start_date',\n",
              " 'data_value',\n",
              " 'message']"
            ]
          },
          "metadata": {},
          "execution_count": 8
        }
      ]
    },
    {
      "cell_type": "code",
      "source": [
        "# view the types of fields for data column 'name'\n",
        "df = pd.DataFrame(data['data'], columns=columns)\n",
        "print(df['name'])"
      ],
      "metadata": {
        "colab": {
          "base_uri": "https://localhost:8080/"
        },
        "id": "q_qzQ3a49Kzc",
        "outputId": "32c9465c-0861-49c4-eea9-f31aa7b930b2"
      },
      "execution_count": 59,
      "outputs": [
        {
          "output_type": "stream",
          "name": "stdout",
          "text": [
            "0        Nitrogen dioxide (NO2)\n",
            "1        Nitrogen dioxide (NO2)\n",
            "2        Nitrogen dioxide (NO2)\n",
            "3        Nitrogen dioxide (NO2)\n",
            "4        Nitrogen dioxide (NO2)\n",
            "                  ...          \n",
            "18857    Nitrogen dioxide (NO2)\n",
            "18858                Ozone (O3)\n",
            "18859                Ozone (O3)\n",
            "18860    Nitrogen dioxide (NO2)\n",
            "18861    Nitrogen dioxide (NO2)\n",
            "Name: name, Length: 18862, dtype: object\n"
          ]
        }
      ]
    },
    {
      "cell_type": "code",
      "source": [
        "# create bar graph\n",
        "import matplotlib.pyplot as plt\n",
        "import matplotlib.ticker as ticker\n",
        "\n",
        "df = pd.DataFrame(data['data'], columns=columns)\n",
        "# convert 'start_date' to datetime objects\n",
        "df['start_date'] = pd.to_datetime(df['start_date'])\n",
        "\n",
        "# filter data for only the year 2023\n",
        "df_2023 = df[df['start_date'].dt.year == 2023]\n",
        "\n",
        "# group data by pollutant and get the data value\n",
        "pollutant_data = df_2023.groupby('name')['data_value'].first().reset_index()\n",
        "\n",
        "# plot\n",
        "fig, ax = plt.subplots(figsize=(8, 6))\n",
        "ax.bar(pollutant_data['name'], pollutant_data['data_value'])\n",
        "ax.set_ylabel('Measured Value')\n",
        "ax.set_title('NYC Air Pollutants Measured in 2023')\n",
        "plt.tight_layout() # adjust layout to prevent labels from overlapping\n",
        "plt.show()"
      ],
      "metadata": {
        "colab": {
          "base_uri": "https://localhost:8080/",
          "height": 607
        },
        "id": "Rif_3LabGhwg",
        "outputId": "9f29f06f-e874-4ce5-ce1b-c1364410070c"
      },
      "execution_count": 60,
      "outputs": [
        {
          "output_type": "display_data",
          "data": {
            "text/plain": [
              "<Figure size 800x600 with 1 Axes>"
            ],
            "image/png": "[encoded data removed]"
          },
          "metadata": {}
        }
      ]
    }
  ]
}