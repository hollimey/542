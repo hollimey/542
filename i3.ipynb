{
  "nbformat": 4,
  "nbformat_minor": 0,
  "metadata": {
    "colab": {
      "provenance": [],
      "authorship_tag": "ABX9TyN+V/G36WMLPUghvfjiMLXO",
      "include_colab_link": true
    },
    "kernelspec": {
      "name": "python3",
      "display_name": "Python 3"
    },
    "language_info": {
      "name": "python"
    }
  },
  "cells": [
    {
      "cell_type": "markdown",
      "metadata": {
        "id": "view-in-github",
        "colab_type": "text"
      },
      "source": [
        "<a href=\"https://colab.research.google.com/github/hollimey/542/blob/main/i3.ipynb\" target=\"_parent\"><img src=\"https://colab.research.google.com/assets/colab-badge.svg\" alt=\"Open In Colab\"/></a>"
      ]
    },
    {
      "cell_type": "code",
      "execution_count": 3,
      "metadata": {
        "colab": {
          "base_uri": "https://localhost:8080/"
        },
        "id": "WZOjUV3o0hMm",
        "outputId": "2b49d596-3dff-491c-f13d-006e4e74eba0"
      },
      "outputs": [
        {
          "output_type": "stream",
          "name": "stdout",
          "text": [
            "Requirement already satisfied: pandas in /usr/local/lib/python3.11/dist-packages (2.2.2)\n",
            "Requirement already satisfied: numpy>=1.23.2 in /usr/local/lib/python3.11/dist-packages (from pandas) (2.0.2)\n",
            "Requirement already satisfied: python-dateutil>=2.8.2 in /usr/local/lib/python3.11/dist-packages (from pandas) (2.8.2)\n",
            "Requirement already satisfied: pytz>=2020.1 in /usr/local/lib/python3.11/dist-packages (from pandas) (2025.2)\n",
            "Requirement already satisfied: tzdata>=2022.7 in /usr/local/lib/python3.11/dist-packages (from pandas) (2025.2)\n",
            "Requirement already satisfied: six>=1.5 in /usr/local/lib/python3.11/dist-packages (from python-dateutil>=2.8.2->pandas) (1.17.0)\n"
          ]
        }
      ],
      "source": [
        "# use pandas library and their dataframe data structure https://pandas.pydata.org/docs/reference/api/pandas.DataFrame.html\n",
        "# use pandas library and their dataframe data structure https://pandas.pydata.org/docs/reference/api/pandas.DataFrame.html\n",
        "# the pip command installs the library, which will work in Colab\n",
        "# if using in your own machine, requires the pip package manager to be installed, or use another package manager\n",
        "!pip install pandas"
      ]
    },
    {
      "source": [
        "# import the requests library, which is for making requests over HTTP to websites or APIs\n",
        "# import the pandas library and rename it as pd for simplicity\n",
        "import requests\n",
        "import pandas as pd"
      ],
      "cell_type": "code",
      "metadata": {
        "id": "zi8LqrXU13pp"
      },
      "execution_count": 7,
      "outputs": []
    },
    {
      "source": [
        "# Get the assets data for Apple, which has the CIK 0000320193 and the request requires 'CIK' to be added\n",
        "# define an empty dictionary for headers if no specific headers are needed\n",
        "response = requests.get(\"https://data.cityofnewyork.us/api/views/c3uy-2p5r/rows.json\")"
      ],
      "cell_type": "code",
      "metadata": {
        "id": "CevNV7Ag22yd"
      },
      "execution_count": 10,
      "outputs": []
    },
    {
      "cell_type": "code",
      "source": [],
      "metadata": {
        "id": "BD7SmkCQ3CHz"
      },
      "execution_count": null,
      "outputs": []
    }
  ]
}