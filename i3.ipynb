{
  "nbformat": 4,
  "nbformat_minor": 0,
  "metadata": {
    "colab": {
      "provenance": [],
      "authorship_tag": "ABX9TyMPc9hrOVzAxvnQNpqB+NwN",
      "include_colab_link": true
    },
    "kernelspec": {
      "name": "python3",
      "display_name": "Python 3"
    },
    "language_info": {
      "name": "python"
    }
  },
  "cells": [
    {
      "cell_type": "markdown",
      "metadata": {
        "id": "view-in-github",
        "colab_type": "text"
      },
      "source": [
        "<a href=\"https://colab.research.google.com/github/StevenGustafson/portable_info_structures/blob/main/imt542_Sp2025_i3.ipynb\" target=\"_parent\"><img src=\"https://colab.research.google.com/assets/colab-badge.svg\" alt=\"Open In Colab\"/></a>"
      ]
    },
    {
      "cell_type": "code",
      "source": [
        "# use pandas library and their dataframe data structure https://pandas.pydata.org/docs/reference/api/pandas.DataFrame.html\n",
        "# the pip command installs the library, which will work in Colab\n",
        "# if using in your own machine, requires the pip package manager to be installed, or use another package manager\n",
        "pip install pandas"
      ],
      "metadata": {
        "colab": {
          "base_uri": "https://localhost:8080/"
        },
        "id": "b0sBTZpD5eht",
        "outputId": "78517b2f-9eed-4772-a885-91863bce9ad5"
      },
      "execution_count": 1,
      "outputs": [
        {
          "output_type": "stream",
          "name": "stdout",
          "text": [
            "Requirement already satisfied: pandas in /usr/local/lib/python3.11/dist-packages (2.2.2)\n",
            "Requirement already satisfied: numpy>=1.23.2 in /usr/local/lib/python3.11/dist-packages (from pandas) (2.0.2)\n",
            "Requirement already satisfied: python-dateutil>=2.8.2 in /usr/local/lib/python3.11/dist-packages (from pandas) (2.8.2)\n",
            "Requirement already satisfied: pytz>=2020.1 in /usr/local/lib/python3.11/dist-packages (from pandas) (2025.2)\n",
            "Requirement already satisfied: tzdata>=2022.7 in /usr/local/lib/python3.11/dist-packages (from pandas) (2025.2)\n",
            "Requirement already satisfied: six>=1.5 in /usr/local/lib/python3.11/dist-packages (from python-dateutil>=2.8.2->pandas) (1.17.0)\n"
          ]
        }
      ]
    },
    {
      "cell_type": "code",
      "source": [
        "# import the requests library, which is for making requests over HTTP to websites or APIs\n",
        "# import the pandas library and rename it as pd for simplicity\n",
        "import requests\n",
        "import pandas as pd"
      ],
      "metadata": {
        "id": "ijvhimCUyzJT"
      },
      "execution_count": 2,
      "outputs": []
    },
    {
      "cell_type": "code",
      "execution_count": 30,
      "outputs": []
    },
    {
      "cell_type": "code",
      "source": [
        "# the tickers_cik json response will be\n",
        "tickers_cik = pd.json_normalize(pd.json_normalize(tickers_cik.json(),\\\n",
        "max_level=0).values[0])\n",
        "\n",
        "# the CIK code is used below to request other data about the company, so we will transform it into the correct format\n",
        "# that is padded with 0 to 10 characters\n",
        "tickers_cik[\"cik_str\"] = tickers_cik[\"cik_str\"].astype(str).str.zfill(10)\n",
        "\n",
        "# a dataframe has an index, if you want to use an existing column, you need to set it\n",
        "tickers_cik.set_index(\"ticker\",inplace=True)"
      ],
      "metadata": {
        "id": "iAWzpYWB6LNA"
      },
      "execution_count": 31,
      "outputs": []
    },
    {
      "cell_type": "code",
      "source": [
        "# Get the assets data for Apple, which has the CIK 0000320193 and the request requires 'CIK' to be added\n",
        "response = requests.get(\"https://data.sec.gov/api/xbrl/companyconcept/CIK0000320193/us-gaap/Assets.json\", headers=headers)"
      ],
      "metadata": {
        "id": "mnLre05J6VFS"
      },
      "execution_count": 33,
      "outputs": []
    },
    {
      "cell_type": "code",
      "source": [
        "# transform the response into a flat structure using US Dollars as a Unit\n",
        "assets_timeseries = pd.json_normalize(response.json()[\"units\"][\"USD\"])\n",
        "\n",
        "# convert the field 'end' in the dataframe to be a datetime, end stores the date aligned to asset amount\n",
        "assets_timeseries[\"end\"] = pd.to_datetime(assets_timeseries[\"end\"])\n",
        "\n",
        "# order the timeseries using the field that stores the date regarding the asset amount \"end\"\n",
        "assets_timeseries = assets_timeseries.sort_values(\"end\")"
      ],
      "metadata": {
        "id": "Q2jsG9916Y73"
      },
      "execution_count": 43,
      "outputs": []
    },
    {
      "cell_type": "code",
      "source": [
        "# import plotly library to draw a graph\n",
        "\n",
        "import plotly.graph_objects as go\n",
        "from plotly.subplots import make_subplots\n",
        "fig = make_subplots(specs=[[{\"secondary_y\": True}]])\n",
        "fig.add_trace(go.Scatter(\n",
        "    x=assets_timeseries[\"end\"],\n",
        "    y=assets_timeseries[\"val\"],\n",
        "    name='Total Assets value (USD)',\n",
        "))\n",
        "fig.update_layout(\n",
        "    width=1000,\n",
        "    height=700,\n",
        "    paper_bgcolor='white',\n",
        "    plot_bgcolor='#fafafa',\n",
        "    hovermode='closest',\n",
        "    title=\"Apple Total Assets value over time\",\n",
        "    xaxis = dict(\n",
        "        title=\"Time\"\n",
        "    ),\n",
        "    yaxis = dict(\n",
        "        title=\"Total Assets value (USD)\"\n",
        "    ),\n",
        "    showlegend=False)\n",
        "fig.show()"
      ],
      "metadata": {
        "colab": {
          "base_uri": "https://localhost:8080/",
          "height": 717
        },
        "id": "nbqtJxv46cVZ",
        "outputId": "aa3c74d1-2d31-4b0f-d03e-823dcf206d31"
      },
      "execution_count": 44,
      "outputs": [
        {
          "output_type": "display_data",
          "data": {
            "text/html": [
              "<html>\n",
              "<head><meta charset=\"utf-8\" /></head>\n",
              "<body>\n",
              "    <div>            <script src=\"https://cdnjs.cloudflare.com/ajax/libs/mathjax/2.7.5/MathJax.js?config=TeX-AMS-MML_SVG\"></script><script type=\"text/javascript\">if (window.MathJax && window.MathJax.Hub && window.MathJax.Hub.Config) {window.MathJax.Hub.Config({SVG: {font: \"STIX-Web\"}});}</script>                <script type=\"text/javascript\">window.PlotlyConfig = {MathJaxConfig: 'local'};</script>\n",
              "        <script charset=\"utf-8\" src=\"https://cdn.plot.ly/plotly-2.35.2.min.js\"></script>                <div id=\"f2d19df8-c74d-4e03-960c-357d92af93c8\" class=\"plotly-graph-div\" style=\"height:700px; width:1000px;\"></div>            <script type=\"text/javascript\">                                    window.PLOTLYENV=window.PLOTLYENV || {};                                    if (document.getElementById(\"f2d19df8-c74d-4e03-960c-357d92af93c8\")) {                    Plotly.newPlot(                        \"f2d19df8-c74d-4e03-960c-357d92af93c8\",                        [{\"name\":\"Total Assets value (USD)\",\"x\":[\"2008-09-27T00:00:00\",\"2008-09-27T00:00:00\",\"2008-09-27T00:00:00\",\"2008-09-27T00:00:00\",\"2009-06-27T00:00:00\",\"2009-09-26T00:00:00\",\"2009-09-26T00:00:00\",\"2009-09-26T00:00:00\",\"2009-09-26T00:00:00\",\"2009-09-26T00:00:00\",\"2009-09-26T00:00:00\",\"2009-09-26T00:00:00\",\"2009-12-26T00:00:00\",\"2010-03-27T00:00:00\",\"2010-06-26T00:00:00\",\"2010-09-25T00:00:00\",\"2010-09-25T00:00:00\",\"2010-09-25T00:00:00\",\"2010-09-25T00:00:00\",\"2010-09-25T00:00:00\",\"2010-12-25T00:00:00\",\"2011-03-26T00:00:00\",\"2011-06-25T00:00:00\",\"2011-09-24T00:00:00\",\"2011-09-24T00:00:00\",\"2011-09-24T00:00:00\",\"2011-09-24T00:00:00\",\"2011-09-24T00:00:00\",\"2011-09-24T00:00:00\",\"2011-12-31T00:00:00\",\"2012-03-31T00:00:00\",\"2012-06-30T00:00:00\",\"2012-09-29T00:00:00\",\"2012-09-29T00:00:00\",\"2012-09-29T00:00:00\",\"2012-09-29T00:00:00\",\"2012-09-29T00:00:00\",\"2012-09-29T00:00:00\",\"2012-12-29T00:00:00\",\"2013-03-30T00:00:00\",\"2013-06-29T00:00:00\",\"2013-09-28T00:00:00\",\"2013-09-28T00:00:00\",\"2013-09-28T00:00:00\",\"2013-09-28T00:00:00\",\"2013-09-28T00:00:00\",\"2013-09-28T00:00:00\",\"2013-12-28T00:00:00\",\"2014-03-29T00:00:00\",\"2014-06-28T00:00:00\",\"2014-09-27T00:00:00\",\"2014-09-27T00:00:00\",\"2014-09-27T00:00:00\",\"2014-09-27T00:00:00\",\"2014-09-27T00:00:00\",\"2014-09-27T00:00:00\",\"2014-12-27T00:00:00\",\"2015-03-28T00:00:00\",\"2015-06-27T00:00:00\",\"2015-09-26T00:00:00\",\"2015-09-26T00:00:00\",\"2015-09-26T00:00:00\",\"2015-09-26T00:00:00\",\"2015-09-26T00:00:00\",\"2015-12-26T00:00:00\",\"2016-03-26T00:00:00\",\"2016-06-25T00:00:00\",\"2016-09-24T00:00:00\",\"2016-09-24T00:00:00\",\"2016-09-24T00:00:00\",\"2016-09-24T00:00:00\",\"2016-09-24T00:00:00\",\"2016-12-31T00:00:00\",\"2017-04-01T00:00:00\",\"2017-07-01T00:00:00\",\"2017-09-30T00:00:00\",\"2017-09-30T00:00:00\",\"2017-09-30T00:00:00\",\"2017-09-30T00:00:00\",\"2017-09-30T00:00:00\",\"2017-12-30T00:00:00\",\"2018-03-31T00:00:00\",\"2018-06-30T00:00:00\",\"2018-09-29T00:00:00\",\"2018-09-29T00:00:00\",\"2018-09-29T00:00:00\",\"2018-09-29T00:00:00\",\"2018-09-29T00:00:00\",\"2018-12-29T00:00:00\",\"2019-03-30T00:00:00\",\"2019-06-29T00:00:00\",\"2019-09-28T00:00:00\",\"2019-09-28T00:00:00\",\"2019-09-28T00:00:00\",\"2019-09-28T00:00:00\",\"2019-09-28T00:00:00\",\"2019-12-28T00:00:00\",\"2020-03-28T00:00:00\",\"2020-06-27T00:00:00\",\"2020-09-26T00:00:00\",\"2020-09-26T00:00:00\",\"2020-09-26T00:00:00\",\"2020-09-26T00:00:00\",\"2020-09-26T00:00:00\",\"2020-12-26T00:00:00\",\"2021-03-27T00:00:00\",\"2021-06-26T00:00:00\",\"2021-09-25T00:00:00\",\"2021-09-25T00:00:00\",\"2021-09-25T00:00:00\",\"2021-09-25T00:00:00\",\"2021-09-25T00:00:00\",\"2021-12-25T00:00:00\",\"2022-03-26T00:00:00\",\"2022-06-25T00:00:00\",\"2022-09-24T00:00:00\",\"2022-09-24T00:00:00\",\"2022-09-24T00:00:00\",\"2022-09-24T00:00:00\",\"2022-09-24T00:00:00\",\"2022-12-31T00:00:00\",\"2023-04-01T00:00:00\",\"2023-07-01T00:00:00\",\"2023-09-30T00:00:00\",\"2023-09-30T00:00:00\",\"2023-09-30T00:00:00\",\"2023-09-30T00:00:00\",\"2023-09-30T00:00:00\",\"2023-12-30T00:00:00\",\"2024-03-30T00:00:00\",\"2024-06-29T00:00:00\",\"2024-09-28T00:00:00\",\"2024-09-28T00:00:00\",\"2024-12-28T00:00:00\"],\"y\":[39572000000,39572000000,36171000000,36171000000,48140000000,47501000000,47501000000,47501000000,47501000000,47501000000,47501000000,53851000000,53926000000,57057000000,64725000000,75183000000,75183000000,75183000000,75183000000,75183000000,86742000000,94904000000,106758000000,116371000000,116371000000,116371000000,116371000000,116371000000,116371000000,138681000000,150934000000,162896000000,176064000000,176064000000,176064000000,176064000000,176064000000,176064000000,196088000000,194743000000,199856000000,207000000000,207000000000,207000000000,207000000000,207000000000,207000000000,225184000000,205989000000,222520000000,231839000000,231839000000,231839000000,231839000000,231839000000,231839000000,261894000000,261194000000,273151000000,290479000000,290479000000,290479000000,290479000000,290345000000,293284000000,305277000000,305602000000,321686000000,321686000000,321686000000,321686000000,321686000000,331141000000,334532000000,345173000000,375319000000,375319000000,375319000000,375319000000,375319000000,406794000000,367502000000,349197000000,365725000000,365725000000,365725000000,365725000000,365725000000,373719000000,341998000000,322239000000,338516000000,338516000000,338516000000,338516000000,338516000000,340618000000,320400000000,317344000000,323888000000,323888000000,323888000000,323888000000,323888000000,354054000000,337158000000,329840000000,351002000000,351002000000,351002000000,351002000000,351002000000,381191000000,350662000000,336309000000,352755000000,352755000000,352755000000,352755000000,352755000000,346747000000,332160000000,335038000000,352583000000,352583000000,352583000000,352583000000,352583000000,353514000000,337411000000,331612000000,364980000000,364980000000,344085000000],\"type\":\"scatter\"}],                        {\"template\":{\"data\":{\"histogram2dcontour\":[{\"type\":\"histogram2dcontour\",\"colorbar\":{\"outlinewidth\":0,\"ticks\":\"\"},\"colorscale\":[[0.0,\"#0d0887\"],[0.1111111111111111,\"#46039f\"],[0.2222222222222222,\"#7201a8\"],[0.3333333333333333,\"#9c179e\"],[0.4444444444444444,\"#bd3786\"],[0.5555555555555556,\"#d8576b\"],[0.6666666666666666,\"#ed7953\"],[0.7777777777777778,\"#fb9f3a\"],[0.8888888888888888,\"#fdca26\"],[1.0,\"#f0f921\"]]}],\"choropleth\":[{\"type\":\"choropleth\",\"colorbar\":{\"outlinewidth\":0,\"ticks\":\"\"}}],\"histogram2d\":[{\"type\":\"histogram2d\",\"colorbar\":{\"outlinewidth\":0,\"ticks\":\"\"},\"colorscale\":[[0.0,\"#0d0887\"],[0.1111111111111111,\"#46039f\"],[0.2222222222222222,\"#7201a8\"],[0.3333333333333333,\"#9c179e\"],[0.4444444444444444,\"#bd3786\"],[0.5555555555555556,\"#d8576b\"],[0.6666666666666666,\"#ed7953\"],[0.7777777777777778,\"#fb9f3a\"],[0.8888888888888888,\"#fdca26\"],[1.0,\"#f0f921\"]]}],\"heatmap\":[{\"type\":\"heatmap\",\"colorbar\":{\"outlinewidth\":0,\"ticks\":\"\"},\"colorscale\":[[0.0,\"#0d0887\"],[0.1111111111111111,\"#46039f\"],[0.2222222222222222,\"#7201a8\"],[0.3333333333333333,\"#9c179e\"],[0.4444444444444444,\"#bd3786\"],[0.5555555555555556,\"#d8576b\"],[0.6666666666666666,\"#ed7953\"],[0.7777777777777778,\"#fb9f3a\"],[0.8888888888888888,\"#fdca26\"],[1.0,\"#f0f921\"]]}],\"heatmapgl\":[{\"type\":\"heatmapgl\",\"colorbar\":{\"outlinewidth\":0,\"ticks\":\"\"},\"colorscale\":[[0.0,\"#0d0887\"],[0.1111111111111111,\"#46039f\"],[0.2222222222222222,\"#7201a8\"],[0.3333333333333333,\"#9c179e\"],[0.4444444444444444,\"#bd3786\"],[0.5555555555555556,\"#d8576b\"],[0.6666666666666666,\"#ed7953\"],[0.7777777777777778,\"#fb9f3a\"],[0.8888888888888888,\"#fdca26\"],[1.0,\"#f0f921\"]]}],\"contourcarpet\":[{\"type\":\"contourcarpet\",\"colorbar\":{\"outlinewidth\":0,\"ticks\":\"\"}}],\"contour\":[{\"type\":\"contour\",\"colorbar\":{\"outlinewidth\":0,\"ticks\":\"\"},\"colorscale\":[[0.0,\"#0d0887\"],[0.1111111111111111,\"#46039f\"],[0.2222222222222222,\"#7201a8\"],[0.3333333333333333,\"#9c179e\"],[0.4444444444444444,\"#bd3786\"],[0.5555555555555556,\"#d8576b\"],[0.6666666666666666,\"#ed7953\"],[0.7777777777777778,\"#fb9f3a\"],[0.8888888888888888,\"#fdca26\"],[1.0,\"#f0f921\"]]}],\"surface\":[{\"type\":\"surface\",\"colorbar\":{\"outlinewidth\":0,\"ticks\":\"\"},\"colorscale\":[[0.0,\"#0d0887\"],[0.1111111111111111,\"#46039f\"],[0.2222222222222222,\"#7201a8\"],[0.3333333333333333,\"#9c179e\"],[0.4444444444444444,\"#bd3786\"],[0.5555555555555556,\"#d8576b\"],[0.6666666666666666,\"#ed7953\"],[0.7777777777777778,\"#fb9f3a\"],[0.8888888888888888,\"#fdca26\"],[1.0,\"#f0f921\"]]}],\"mesh3d\":[{\"type\":\"mesh3d\",\"colorbar\":{\"outlinewidth\":0,\"ticks\":\"\"}}],\"scatter\":[{\"fillpattern\":{\"fillmode\":\"overlay\",\"size\":10,\"solidity\":0.2},\"type\":\"scatter\"}],\"parcoords\":[{\"type\":\"parcoords\",\"line\":{\"colorbar\":{\"outlinewidth\":0,\"ticks\":\"\"}}}],\"scatterpolargl\":[{\"type\":\"scatterpolargl\",\"marker\":{\"colorbar\":{\"outlinewidth\":0,\"ticks\":\"\"}}}],\"bar\":[{\"error_x\":{\"color\":\"#2a3f5f\"},\"error_y\":{\"color\":\"#2a3f5f\"},\"marker\":{\"line\":{\"color\":\"#E5ECF6\",\"width\":0.5},\"pattern\":{\"fillmode\":\"overlay\",\"size\":10,\"solidity\":0.2}},\"type\":\"bar\"}],\"scattergeo\":[{\"type\":\"scattergeo\",\"marker\":{\"colorbar\":{\"outlinewidth\":0,\"ticks\":\"\"}}}],\"scatterpolar\":[{\"type\":\"scatterpolar\",\"marker\":{\"colorbar\":{\"outlinewidth\":0,\"ticks\":\"\"}}}],\"histogram\":[{\"marker\":{\"pattern\":{\"fillmode\":\"overlay\",\"size\":10,\"solidity\":0.2}},\"type\":\"histogram\"}],\"scattergl\":[{\"type\":\"scattergl\",\"marker\":{\"colorbar\":{\"outlinewidth\":0,\"ticks\":\"\"}}}],\"scatter3d\":[{\"type\":\"scatter3d\",\"line\":{\"colorbar\":{\"outlinewidth\":0,\"ticks\":\"\"}},\"marker\":{\"colorbar\":{\"outlinewidth\":0,\"ticks\":\"\"}}}],\"scattermapbox\":[{\"type\":\"scattermapbox\",\"marker\":{\"colorbar\":{\"outlinewidth\":0,\"ticks\":\"\"}}}],\"scatterternary\":[{\"type\":\"scatterternary\",\"marker\":{\"colorbar\":{\"outlinewidth\":0,\"ticks\":\"\"}}}],\"scattercarpet\":[{\"type\":\"scattercarpet\",\"marker\":{\"colorbar\":{\"outlinewidth\":0,\"ticks\":\"\"}}}],\"carpet\":[{\"aaxis\":{\"endlinecolor\":\"#2a3f5f\",\"gridcolor\":\"white\",\"linecolor\":\"white\",\"minorgridcolor\":\"white\",\"startlinecolor\":\"#2a3f5f\"},\"baxis\":{\"endlinecolor\":\"#2a3f5f\",\"gridcolor\":\"white\",\"linecolor\":\"white\",\"minorgridcolor\":\"white\",\"startlinecolor\":\"#2a3f5f\"},\"type\":\"carpet\"}],\"table\":[{\"cells\":{\"fill\":{\"color\":\"#EBF0F8\"},\"line\":{\"color\":\"white\"}},\"header\":{\"fill\":{\"color\":\"#C8D4E3\"},\"line\":{\"color\":\"white\"}},\"type\":\"table\"}],\"barpolar\":[{\"marker\":{\"line\":{\"color\":\"#E5ECF6\",\"width\":0.5},\"pattern\":{\"fillmode\":\"overlay\",\"size\":10,\"solidity\":0.2}},\"type\":\"barpolar\"}],\"pie\":[{\"automargin\":true,\"type\":\"pie\"}]},\"layout\":{\"autotypenumbers\":\"strict\",\"colorway\":[\"#636efa\",\"#EF553B\",\"#00cc96\",\"#ab63fa\",\"#FFA15A\",\"#19d3f3\",\"#FF6692\",\"#B6E880\",\"#FF97FF\",\"#FECB52\"],\"font\":{\"color\":\"#2a3f5f\"},\"hovermode\":\"closest\",\"hoverlabel\":{\"align\":\"left\"},\"paper_bgcolor\":\"white\",\"plot_bgcolor\":\"#E5ECF6\",\"polar\":{\"bgcolor\":\"#E5ECF6\",\"angularaxis\":{\"gridcolor\":\"white\",\"linecolor\":\"white\",\"ticks\":\"\"},\"radialaxis\":{\"gridcolor\":\"white\",\"linecolor\":\"white\",\"ticks\":\"\"}},\"ternary\":{\"bgcolor\":\"#E5ECF6\",\"aaxis\":{\"gridcolor\":\"white\",\"linecolor\":\"white\",\"ticks\":\"\"},\"baxis\":{\"gridcolor\":\"white\",\"linecolor\":\"white\",\"ticks\":\"\"},\"caxis\":{\"gridcolor\":\"white\",\"linecolor\":\"white\",\"ticks\":\"\"}},\"coloraxis\":{\"colorbar\":{\"outlinewidth\":0,\"ticks\":\"\"}},\"colorscale\":{\"sequential\":[[0.0,\"#0d0887\"],[0.1111111111111111,\"#46039f\"],[0.2222222222222222,\"#7201a8\"],[0.3333333333333333,\"#9c179e\"],[0.4444444444444444,\"#bd3786\"],[0.5555555555555556,\"#d8576b\"],[0.6666666666666666,\"#ed7953\"],[0.7777777777777778,\"#fb9f3a\"],[0.8888888888888888,\"#fdca26\"],[1.0,\"#f0f921\"]],\"sequentialminus\":[[0.0,\"#0d0887\"],[0.1111111111111111,\"#46039f\"],[0.2222222222222222,\"#7201a8\"],[0.3333333333333333,\"#9c179e\"],[0.4444444444444444,\"#bd3786\"],[0.5555555555555556,\"#d8576b\"],[0.6666666666666666,\"#ed7953\"],[0.7777777777777778,\"#fb9f3a\"],[0.8888888888888888,\"#fdca26\"],[1.0,\"#f0f921\"]],\"diverging\":[[0,\"#8e0152\"],[0.1,\"#c51b7d\"],[0.2,\"#de77ae\"],[0.3,\"#f1b6da\"],[0.4,\"#fde0ef\"],[0.5,\"#f7f7f7\"],[0.6,\"#e6f5d0\"],[0.7,\"#b8e186\"],[0.8,\"#7fbc41\"],[0.9,\"#4d9221\"],[1,\"#276419\"]]},\"xaxis\":{\"gridcolor\":\"white\",\"linecolor\":\"white\",\"ticks\":\"\",\"title\":{\"standoff\":15},\"zerolinecolor\":\"white\",\"automargin\":true,\"zerolinewidth\":2},\"yaxis\":{\"gridcolor\":\"white\",\"linecolor\":\"white\",\"ticks\":\"\",\"title\":{\"standoff\":15},\"zerolinecolor\":\"white\",\"automargin\":true,\"zerolinewidth\":2},\"scene\":{\"xaxis\":{\"backgroundcolor\":\"#E5ECF6\",\"gridcolor\":\"white\",\"linecolor\":\"white\",\"showbackground\":true,\"ticks\":\"\",\"zerolinecolor\":\"white\",\"gridwidth\":2},\"yaxis\":{\"backgroundcolor\":\"#E5ECF6\",\"gridcolor\":\"white\",\"linecolor\":\"white\",\"showbackground\":true,\"ticks\":\"\",\"zerolinecolor\":\"white\",\"gridwidth\":2},\"zaxis\":{\"backgroundcolor\":\"#E5ECF6\",\"gridcolor\":\"white\",\"linecolor\":\"white\",\"showbackground\":true,\"ticks\":\"\",\"zerolinecolor\":\"white\",\"gridwidth\":2}},\"shapedefaults\":{\"line\":{\"color\":\"#2a3f5f\"}},\"annotationdefaults\":{\"arrowcolor\":\"#2a3f5f\",\"arrowhead\":0,\"arrowwidth\":1},\"geo\":{\"bgcolor\":\"white\",\"landcolor\":\"#E5ECF6\",\"subunitcolor\":\"white\",\"showland\":true,\"showlakes\":true,\"lakecolor\":\"white\"},\"title\":{\"x\":0.05},\"mapbox\":{\"style\":\"light\"}}},\"xaxis\":{\"anchor\":\"y\",\"domain\":[0.0,0.94],\"title\":{\"text\":\"Time\"}},\"yaxis\":{\"anchor\":\"x\",\"domain\":[0.0,1.0],\"title\":{\"text\":\"Total Assets value (USD)\"}},\"yaxis2\":{\"anchor\":\"x\",\"overlaying\":\"y\",\"side\":\"right\"},\"width\":1000,\"height\":700,\"paper_bgcolor\":\"white\",\"plot_bgcolor\":\"#fafafa\",\"hovermode\":\"closest\",\"title\":{\"text\":\"Apple Total Assets value over time\"},\"showlegend\":false},                        {\"responsive\": true}                    ).then(function(){\n",
              "                            \n",
              "var gd = document.getElementById('f2d19df8-c74d-4e03-960c-357d92af93c8');\n",
              "var x = new MutationObserver(function (mutations, observer) {{\n",
              "        var display = window.getComputedStyle(gd).display;\n",
              "        if (!display || display === 'none') {{\n",
              "            console.log([gd, 'removed!']);\n",
              "            Plotly.purge(gd);\n",
              "            observer.disconnect();\n",
              "        }}\n",
              "}});\n",
              "\n",
              "// Listen for the removal of the full notebook cells\n",
              "var notebookContainer = gd.closest('#notebook-container');\n",
              "if (notebookContainer) {{\n",
              "    x.observe(notebookContainer, {childList: true});\n",
              "}}\n",
              "\n",
              "// Listen for the clearing of the current output cell\n",
              "var outputEl = gd.closest('.output');\n",
              "if (outputEl) {{\n",
              "    x.observe(outputEl, {childList: true});\n",
              "}}\n",
              "\n",
              "                        })                };                            </script>        </div>\n",
              "</body>\n",
              "</html>"
            ]
          },
          "metadata": {}
        }
      ]
    }
  ]
}
